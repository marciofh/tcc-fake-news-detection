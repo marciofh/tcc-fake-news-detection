{
 "cells": [
  {
   "cell_type": "code",
   "execution_count": 17,
   "metadata": {},
   "outputs": [],
   "source": [
    "import pandas as pd\n",
    "#pre processamento\n",
    "import re\n",
    "import nltk\n",
    "from sklearn.utils import resample\n",
    "from nltk.corpus import stopwords\n",
    "from nltk.tokenize import word_tokenize\n",
    "from nltk.stem import WordNetLemmatizer\n",
    "from sklearn.feature_extraction.text import TfidfVectorizer\n",
    "from sklearn.model_selection import train_test_split\n",
    "#modelo\n",
    "from sklearn.naive_bayes import MultinomialNB\n",
    "from sklearn.ensemble import RandomForestClassifier\n",
    "from sklearn.svm import LinearSVC\n",
    "import tensorflow as tf\n",
    "#avalição\n",
    "from sklearn.metrics import classification_report, confusion_matrix\n",
    "#plot\n",
    "from matplotlib import pyplot as plt\n",
    "import seaborn as sns"
   ]
  },
  {
   "cell_type": "code",
   "execution_count": 18,
   "metadata": {},
   "outputs": [
    {
     "name": "stderr",
     "output_type": "stream",
     "text": [
      "[nltk_data] Downloading package stopwords to\n",
      "[nltk_data]     C:\\Users\\MGPFILH\\AppData\\Roaming\\nltk_data...\n",
      "[nltk_data]   Package stopwords is already up-to-date!\n",
      "[nltk_data] Downloading package punkt to\n",
      "[nltk_data]     C:\\Users\\MGPFILH\\AppData\\Roaming\\nltk_data...\n",
      "[nltk_data]   Package punkt is already up-to-date!\n",
      "[nltk_data] Downloading package wordnet to\n",
      "[nltk_data]     C:\\Users\\MGPFILH\\AppData\\Roaming\\nltk_data...\n",
      "[nltk_data]   Package wordnet is already up-to-date!\n"
     ]
    },
    {
     "data": {
      "text/plain": [
       "True"
      ]
     },
     "execution_count": 18,
     "metadata": {},
     "output_type": "execute_result"
    }
   ],
   "source": [
    "#baixando pacotes necessários\n",
    "nltk.download('stopwords')\n",
    "nltk.download('punkt')\n",
    "nltk.download('wordnet')"
   ]
  },
  {
   "attachments": {},
   "cell_type": "markdown",
   "metadata": {},
   "source": [
    "## Base de dados"
   ]
  },
  {
   "cell_type": "code",
   "execution_count": 19,
   "metadata": {},
   "outputs": [
    {
     "name": "stdout",
     "output_type": "stream",
     "text": [
      "(1056, 5)\n",
      "['id' 'news_url' 'title' 'tweet_ids' 'real']\n",
      "1    624\n",
      "0    432\n",
      "Name: real, dtype: int64\n"
     ]
    },
    {
     "data": {
      "text/html": [
       "<div>\n",
       "<style scoped>\n",
       "    .dataframe tbody tr th:only-of-type {\n",
       "        vertical-align: middle;\n",
       "    }\n",
       "\n",
       "    .dataframe tbody tr th {\n",
       "        vertical-align: top;\n",
       "    }\n",
       "\n",
       "    .dataframe thead th {\n",
       "        text-align: right;\n",
       "    }\n",
       "</style>\n",
       "<table border=\"1\" class=\"dataframe\">\n",
       "  <thead>\n",
       "    <tr style=\"text-align: right;\">\n",
       "      <th></th>\n",
       "      <th>id</th>\n",
       "      <th>news_url</th>\n",
       "      <th>title</th>\n",
       "      <th>tweet_ids</th>\n",
       "      <th>real</th>\n",
       "    </tr>\n",
       "  </thead>\n",
       "  <tbody>\n",
       "    <tr>\n",
       "      <th>0</th>\n",
       "      <td>politifact695</td>\n",
       "      <td>http://www.msnbc.msn.com/id/26535811/</td>\n",
       "      <td>Outlook, Office, Skype, Bing, Breaking News, a...</td>\n",
       "      <td>894937978\\t357497238303408128\\t104896144970224...</td>\n",
       "      <td>1</td>\n",
       "    </tr>\n",
       "    <tr>\n",
       "      <th>1</th>\n",
       "      <td>politifact914</td>\n",
       "      <td>NaN</td>\n",
       "      <td>Press release Rep Barton Democrats stimulus wi...</td>\n",
       "      <td>NaN</td>\n",
       "      <td>1</td>\n",
       "    </tr>\n",
       "    <tr>\n",
       "      <th>2</th>\n",
       "      <td>politifact14330</td>\n",
       "      <td>http://wazanews.tk/2017/07/13/breaking-someone...</td>\n",
       "      <td>ни чего нового как правильно</td>\n",
       "      <td>884788368923643905\\t884788528672120832\\t884789...</td>\n",
       "      <td>0</td>\n",
       "    </tr>\n",
       "    <tr>\n",
       "      <th>3</th>\n",
       "      <td>politifact13934</td>\n",
       "      <td>http://usleader.net/index.php/2017/05/05/break...</td>\n",
       "      <td>BREAKING: KEN STARR’S PLANE JUST DISAPPEARED O...</td>\n",
       "      <td>845338198159036417\\t845338289024458752\\t845340...</td>\n",
       "      <td>0</td>\n",
       "    </tr>\n",
       "    <tr>\n",
       "      <th>4</th>\n",
       "      <td>politifact15427</td>\n",
       "      <td>http://www.cvikas.com/2018/05/22/usa-mysteriou...</td>\n",
       "      <td>USA: Mysterious Nazi submarine from WWII disco...</td>\n",
       "      <td>700364228679565313\\t700490720465948673\\t700526...</td>\n",
       "      <td>0</td>\n",
       "    </tr>\n",
       "  </tbody>\n",
       "</table>\n",
       "</div>"
      ],
      "text/plain": [
       "                id                                           news_url  \\\n",
       "0    politifact695              http://www.msnbc.msn.com/id/26535811/   \n",
       "1    politifact914                                                NaN   \n",
       "2  politifact14330  http://wazanews.tk/2017/07/13/breaking-someone...   \n",
       "3  politifact13934  http://usleader.net/index.php/2017/05/05/break...   \n",
       "4  politifact15427  http://www.cvikas.com/2018/05/22/usa-mysteriou...   \n",
       "\n",
       "                                               title  \\\n",
       "0  Outlook, Office, Skype, Bing, Breaking News, a...   \n",
       "1  Press release Rep Barton Democrats stimulus wi...   \n",
       "2                       ни чего нового как правильно   \n",
       "3  BREAKING: KEN STARR’S PLANE JUST DISAPPEARED O...   \n",
       "4  USA: Mysterious Nazi submarine from WWII disco...   \n",
       "\n",
       "                                           tweet_ids  real  \n",
       "0  894937978\\t357497238303408128\\t104896144970224...     1  \n",
       "1                                                NaN     1  \n",
       "2  884788368923643905\\t884788528672120832\\t884789...     0  \n",
       "3  845338198159036417\\t845338289024458752\\t845340...     0  \n",
       "4  700364228679565313\\t700490720465948673\\t700526...     0  "
      ]
     },
     "execution_count": 19,
     "metadata": {},
     "output_type": "execute_result"
    }
   ],
   "source": [
    "#df = pd.read_csv('DATA/FakeNews.csv') #https://www.kaggle.com/datasets/algord/fake-news\n",
    "#df = pd.read_csv('DATA/gossipcop_data.csv')\n",
    "df = pd.read_csv('DATA/politifact_data.csv')\n",
    "print(df.shape)\n",
    "print(df.columns.values)\n",
    "print(df['real'].value_counts())\n",
    "df.head()\n",
    "#1 real\n",
    "#0 fake"
   ]
  },
  {
   "attachments": {},
   "cell_type": "markdown",
   "metadata": {},
   "source": [
    "Tratamento de dados"
   ]
  },
  {
   "cell_type": "code",
   "execution_count": 20,
   "metadata": {},
   "outputs": [
    {
     "name": "stdout",
     "output_type": "stream",
     "text": [
      "(713, 5)\n",
      "0    386\n",
      "1    327\n",
      "Name: real, dtype: int64\n"
     ]
    }
   ],
   "source": [
    "df.dropna(inplace=True) #removendo valores nulos\n",
    "df.drop_duplicates(subset='title', keep='last', inplace=True) #removendo duplicatas\n",
    "df.reset_index(drop=True, inplace=True)\n",
    "\n",
    "def clean_text(text): \n",
    "    text = text.lower() #colocando em minúsculo\n",
    "    return re.sub(r\"[^A-Za-z0-9\\s\\.]\", '', text) #removendo caracteres especiais\n",
    "\n",
    "df['title'] = df['title'].apply(clean_text)\n",
    "print(df.shape)\n",
    "print(df['real'].value_counts())"
   ]
  },
  {
   "attachments": {},
   "cell_type": "markdown",
   "metadata": {},
   "source": [
    "Balanceamento de carga"
   ]
  },
  {
   "cell_type": "code",
   "execution_count": 21,
   "metadata": {},
   "outputs": [],
   "source": [
    "# df_fake = df[df['real'] == 0]\n",
    "# df_real = df[df['real'] == 1]\n",
    "\n",
    "# df_real_downsampled = resample(df_real, replace=False, n_samples=len(df_fake), random_state=42)\n",
    "# df_balanced = pd.concat([df_real_downsampled, df_fake])\n",
    "# df = df_balanced\n",
    "# print(df_balanced.shape)\n",
    "# print(df_balanced['real'].value_counts())"
   ]
  },
  {
   "attachments": {},
   "cell_type": "markdown",
   "metadata": {},
   "source": [
    "## PROCESSAMENTO DE LINGUAGEM NATURAL (PLN)"
   ]
  },
  {
   "attachments": {},
   "cell_type": "markdown",
   "metadata": {},
   "source": [
    "Tokenização, StopWords, Lematização"
   ]
  },
  {
   "cell_type": "code",
   "execution_count": 22,
   "metadata": {},
   "outputs": [],
   "source": [
    "def preprocess(text):\n",
    "    stop_words = set(stopwords.words('english'))\n",
    "    lemmatizer = WordNetLemmatizer()\n",
    "\n",
    "    tokens = word_tokenize(text) #tokenização\n",
    "    tokens = [token for token in tokens if token not in stop_words] #remoção de stopwords\n",
    "    tokens = [lemmatizer.lemmatize(token) for token in tokens] #lematização\n",
    "    preprocessed_text = ' '.join(tokens) #junção de tokens\n",
    "    \n",
    "    return preprocessed_text"
   ]
  },
  {
   "attachments": {},
   "cell_type": "markdown",
   "metadata": {},
   "source": [
    "TF-IDF"
   ]
  },
  {
   "cell_type": "code",
   "execution_count": 23,
   "metadata": {},
   "outputs": [],
   "source": [
    "def calculate_tfidf(text):\n",
    "    vectorizer = TfidfVectorizer()\n",
    "    tfidf_matrix = vectorizer.fit_transform(text) #calculando TF-IDF\n",
    "    return tfidf_matrix.toarray()"
   ]
  },
  {
   "attachments": {},
   "cell_type": "markdown",
   "metadata": {},
   "source": [
    "Aplicação do pré processamento"
   ]
  },
  {
   "cell_type": "code",
   "execution_count": 24,
   "metadata": {},
   "outputs": [
    {
     "name": "stdout",
     "output_type": "stream",
     "text": [
      "<class 'numpy.ndarray'>\n"
     ]
    }
   ],
   "source": [
    "#aplicando tokenização, stopWords, lematização\n",
    "df['tokens'] = df['title'].apply(preprocess)\n",
    "#print(df['tokens'].head())\n",
    "\n",
    "#calculando TF-IDF\n",
    "X_balanced = calculate_tfidf(df['title']) \n",
    "print(type(X_balanced))\n",
    "y_balanced = df['real']"
   ]
  },
  {
   "attachments": {},
   "cell_type": "markdown",
   "metadata": {},
   "source": [
    "Divisão dos dados em treinamento e teste"
   ]
  },
  {
   "cell_type": "code",
   "execution_count": 25,
   "metadata": {},
   "outputs": [],
   "source": [
    "X_train, X_test, y_train, y_test = train_test_split(X_balanced, y_balanced, test_size=0.2, random_state=42)\n",
    "#X_train, X_test -> pre processado\n",
    "#y_train, y_test -> valores reais"
   ]
  },
  {
   "attachments": {},
   "cell_type": "markdown",
   "metadata": {},
   "source": [
    "## MODELOS ARTIFICIAIS"
   ]
  },
  {
   "attachments": {},
   "cell_type": "markdown",
   "metadata": {},
   "source": [
    "Naive Bayes"
   ]
  },
  {
   "cell_type": "code",
   "execution_count": 26,
   "metadata": {},
   "outputs": [],
   "source": [
    "def naive_bayes_model(X_train, y_train, X_test):\n",
    "    naive_bayes = MultinomialNB()\n",
    "    naive_bayes.fit(X_train, y_train) #treinando modelo\n",
    "    y_pred = naive_bayes.predict(X_test) #testando modelo\n",
    "    return y_pred"
   ]
  },
  {
   "attachments": {},
   "cell_type": "markdown",
   "metadata": {},
   "source": [
    "Floresta Aleatória"
   ]
  },
  {
   "cell_type": "code",
   "execution_count": 27,
   "metadata": {},
   "outputs": [],
   "source": [
    "def random_forest_model(X_train, y_train, X_test):\n",
    "    random_forest = RandomForestClassifier()\n",
    "    random_forest.fit(X_train, y_train) #treinando modelo\n",
    "    y_pred = random_forest.predict(X_test) #testando modelo\n",
    "    return y_pred"
   ]
  },
  {
   "attachments": {},
   "cell_type": "markdown",
   "metadata": {},
   "source": [
    "Support Vector Machine"
   ]
  },
  {
   "cell_type": "code",
   "execution_count": 28,
   "metadata": {},
   "outputs": [],
   "source": [
    "def support_vector_machine_model(X_train, y_train, X_test):\n",
    "    svm = LinearSVC()\n",
    "    svm.fit(X_train, y_train) #treinando modelo\n",
    "    y_pred = svm.predict(X_test) #testando modelo\n",
    "    return y_pred"
   ]
  },
  {
   "attachments": {},
   "cell_type": "markdown",
   "metadata": {},
   "source": [
    "Rede Neural"
   ]
  },
  {
   "cell_type": "code",
   "execution_count": 29,
   "metadata": {},
   "outputs": [],
   "source": [
    "def neural_network_model(X_train, y_train, X_test):\n",
    "    model = tf.keras.models.Sequential([ #definindo modelo\n",
    "        tf.keras.layers.Dense(64, activation='relu', input_shape=(X_train.shape[1],)),\n",
    "        tf.keras.layers.Dense(1, activation='sigmoid')\n",
    "    ])\n",
    "\n",
    "    model.compile(optimizer='adam', loss='binary_crossentropy', metrics=['accuracy']) #compilando modelo\n",
    "    model.fit(X_train, y_train, epochs=10, batch_size=32, verbose=0) #treinando modelo\n",
    "    y_pred = model.predict(X_test) #testando modelo\n",
    "    y_pred = (y_pred > 0.5).astype(int) #convertendo valores para 0 ou 1\n",
    "    \n",
    "    return y_pred"
   ]
  },
  {
   "attachments": {},
   "cell_type": "markdown",
   "metadata": {},
   "source": [
    "Aplicação dos modelos"
   ]
  },
  {
   "cell_type": "code",
   "execution_count": 30,
   "metadata": {},
   "outputs": [
    {
     "name": "stdout",
     "output_type": "stream",
     "text": [
      "5/5 [==============================] - 0s 3ms/step\n"
     ]
    }
   ],
   "source": [
    "nb_model = naive_bayes_model(X_train, y_train, X_test)\n",
    "rf_model = random_forest_model(X_train, y_train, X_test)\n",
    "svm_model = support_vector_machine_model(X_train, y_train, X_test)\n",
    "nn_model = neural_network_model(X_train, y_train, X_test)"
   ]
  },
  {
   "attachments": {},
   "cell_type": "markdown",
   "metadata": {},
   "source": [
    "## Métricas de Avaliação"
   ]
  },
  {
   "attachments": {},
   "cell_type": "markdown",
   "metadata": {},
   "source": [
    "Matriz de confusão"
   ]
  },
  {
   "cell_type": "code",
   "execution_count": 31,
   "metadata": {},
   "outputs": [],
   "source": [
    "def plot_confusion_matrix(y_true, y_pred):\n",
    "    cm = confusion_matrix(y_true, y_pred)\n",
    "    plt.figure(figsize=(5, 3))\n",
    "    sns.heatmap(cm, annot=True, fmt='d')\n",
    "    plt.xlabel('Prediction')\n",
    "    plt.ylabel('Real')\n",
    "    plt.show()"
   ]
  },
  {
   "attachments": {},
   "cell_type": "markdown",
   "metadata": {},
   "source": [
    "Acurácia, precisão, recall, f1-score"
   ]
  },
  {
   "cell_type": "code",
   "execution_count": 32,
   "metadata": {},
   "outputs": [
    {
     "name": "stdout",
     "output_type": "stream",
     "text": [
      "\n",
      "#Naive Bayes:\n",
      "               precision    recall  f1-score   support\n",
      "\n",
      "           0       0.77      0.91      0.84        78\n",
      "           1       0.86      0.68      0.76        65\n",
      "\n",
      "    accuracy                           0.80       143\n",
      "   macro avg       0.82      0.79      0.80       143\n",
      "weighted avg       0.81      0.80      0.80       143\n",
      "\n"
     ]
    },
    {
     "data": {
      "image/png": "[encoded data removed]",
      "text/plain": [
       "<Figure size 500x300 with 2 Axes>"
      ]
     },
     "metadata": {},
     "output_type": "display_data"
    },
    {
     "name": "stdout",
     "output_type": "stream",
     "text": [
      "\n",
      "#Random Forest:\n",
      "               precision    recall  f1-score   support\n",
      "\n",
      "           0       0.67      0.94      0.78        78\n",
      "           1       0.85      0.45      0.59        65\n",
      "\n",
      "    accuracy                           0.71       143\n",
      "   macro avg       0.76      0.69      0.68       143\n",
      "weighted avg       0.75      0.71      0.69       143\n",
      "\n"
     ]
    },
    {
     "data": {
      "image/png": "[encoded data removed]",
      "text/plain": [
       "<Figure size 500x300 with 2 Axes>"
      ]
     },
     "metadata": {},
     "output_type": "display_data"
    },
    {
     "name": "stdout",
     "output_type": "stream",
     "text": [
      "\n",
      "#Support Vector Machine:\n",
      "               precision    recall  f1-score   support\n",
      "\n",
      "           0       0.76      0.91      0.83        78\n",
      "           1       0.86      0.66      0.75        65\n",
      "\n",
      "    accuracy                           0.80       143\n",
      "   macro avg       0.81      0.79      0.79       143\n",
      "weighted avg       0.81      0.80      0.79       143\n",
      "\n"
     ]
    },
    {
     "data": {
      "image/png": "[encoded data removed]",
      "text/plain": [
       "<Figure size 500x300 with 2 Axes>"
      ]
     },
     "metadata": {},
     "output_type": "display_data"
    },
    {
     "name": "stdout",
     "output_type": "stream",
     "text": [
      "\n",
      "#Neural Network:\n",
      "               precision    recall  f1-score   support\n",
      "\n",
      "           0       0.82      0.90      0.86        78\n",
      "           1       0.86      0.77      0.81        65\n",
      "\n",
      "    accuracy                           0.84       143\n",
      "   macro avg       0.84      0.83      0.84       143\n",
      "weighted avg       0.84      0.84      0.84       143\n",
      "\n"
     ]
    },
    {
     "data": {
      "image/png": "[encoded data removed]",
      "text/plain": [
       "<Figure size 500x300 with 2 Axes>"
      ]
     },
     "metadata": {},
     "output_type": "display_data"
    }
   ],
   "source": [
    "print(\"\\n#Naive Bayes:\\n\", classification_report(y_test, nb_model))\n",
    "plot_confusion_matrix(y_test, nb_model)\n",
    "print(\"\\n#Random Forest:\\n\", classification_report(y_test, rf_model))\n",
    "plot_confusion_matrix(y_test, rf_model)\n",
    "print(\"\\n#Support Vector Machine:\\n\", classification_report(y_test, svm_model))\n",
    "plot_confusion_matrix(y_test, svm_model)\n",
    "print(\"\\n#Neural Network:\\n\", classification_report(y_test, nn_model))\n",
    "plot_confusion_matrix(y_test, nn_model)"
   ]
  }
 ],
 "metadata": {
  "kernelspec": {
   "display_name": "Python 3",
   "language": "python",
   "name": "python3"
  },
  "language_info": {
   "codemirror_mode": {
    "name": "ipython",
    "version": 3
   },
   "file_extension": ".py",
   "mimetype": "text/x-python",
   "name": "python",
   "nbconvert_exporter": "python",
   "pygments_lexer": "ipython3",
   "version": "3.10.7"
  },
  "orig_nbformat": 4
 },
 "nbformat": 4,
 "nbformat_minor": 2
}
