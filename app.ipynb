{
 "cells": [
  {
   "cell_type": "code",
   "execution_count": 91,
   "metadata": {},
   "outputs": [],
   "source": [
    "import os\n",
    "import re\n",
    "import pandas as pd\n",
    "import numpy as np\n",
    "#pre processamento\n",
    "import nltk\n",
    "from sklearn.utils import resample\n",
    "from nltk.corpus import stopwords\n",
    "from nltk.tokenize import word_tokenize\n",
    "from nltk.stem import WordNetLemmatizer\n",
    "from sklearn.feature_extraction.text import TfidfVectorizer\n",
    "from sklearn.model_selection import train_test_split\n",
    "#glove\n",
    "from gensim.scripts.glove2word2vec import glove2word2vec\n",
    "from gensim.models import KeyedVectors\n",
    "#modelo\n",
    "from sklearn.naive_bayes import MultinomialNB\n",
    "from sklearn.ensemble import RandomForestClassifier\n",
    "from sklearn.svm import LinearSVC\n",
    "import tensorflow as tf\n",
    "#avalição\n",
    "from sklearn.metrics import classification_report, confusion_matrix\n",
    "#plot\n",
    "from matplotlib import pyplot as plt\n",
    "import seaborn as sns"
   ]
  },
  {
   "cell_type": "code",
   "execution_count": 92,
   "metadata": {},
   "outputs": [
    {
     "name": "stderr",
     "output_type": "stream",
     "text": [
      "[nltk_data] Downloading package stopwords to\n",
      "[nltk_data]     C:\\Users\\MGPFILH\\AppData\\Roaming\\nltk_data...\n",
      "[nltk_data]   Package stopwords is already up-to-date!\n",
      "[nltk_data] Downloading package punkt to\n",
      "[nltk_data]     C:\\Users\\MGPFILH\\AppData\\Roaming\\nltk_data...\n",
      "[nltk_data]   Package punkt is already up-to-date!\n",
      "[nltk_data] Downloading package wordnet to\n",
      "[nltk_data]     C:\\Users\\MGPFILH\\AppData\\Roaming\\nltk_data...\n",
      "[nltk_data]   Package wordnet is already up-to-date!\n"
     ]
    },
    {
     "data": {
      "text/plain": [
       "True"
      ]
     },
     "execution_count": 92,
     "metadata": {},
     "output_type": "execute_result"
    }
   ],
   "source": [
    "#baixando pacotes necessários\n",
    "nltk.download('stopwords')\n",
    "nltk.download('punkt')\n",
    "nltk.download('wordnet')"
   ]
  },
  {
   "attachments": {},
   "cell_type": "markdown",
   "metadata": {},
   "source": [
    "Impotação da Base de dados"
   ]
  },
  {
   "cell_type": "code",
   "execution_count": 93,
   "metadata": {},
   "outputs": [
    {
     "name": "stdout",
     "output_type": "stream",
     "text": [
      "(23196, 5)\n",
      "1    17441\n",
      "0     5755\n",
      "Name: real, dtype: int64\n"
     ]
    },
    {
     "data": {
      "text/html": [
       "<div>\n",
       "<style scoped>\n",
       "    .dataframe tbody tr th:only-of-type {\n",
       "        vertical-align: middle;\n",
       "    }\n",
       "\n",
       "    .dataframe tbody tr th {\n",
       "        vertical-align: top;\n",
       "    }\n",
       "\n",
       "    .dataframe thead th {\n",
       "        text-align: right;\n",
       "    }\n",
       "</style>\n",
       "<table border=\"1\" class=\"dataframe\">\n",
       "  <thead>\n",
       "    <tr style=\"text-align: right;\">\n",
       "      <th></th>\n",
       "      <th>title</th>\n",
       "      <th>news_url</th>\n",
       "      <th>source_domain</th>\n",
       "      <th>tweet_num</th>\n",
       "      <th>real</th>\n",
       "    </tr>\n",
       "  </thead>\n",
       "  <tbody>\n",
       "    <tr>\n",
       "      <th>0</th>\n",
       "      <td>Kandi Burruss Explodes Over Rape Accusation on...</td>\n",
       "      <td>http://toofab.com/2017/05/08/real-housewives-a...</td>\n",
       "      <td>toofab.com</td>\n",
       "      <td>42</td>\n",
       "      <td>1</td>\n",
       "    </tr>\n",
       "    <tr>\n",
       "      <th>1</th>\n",
       "      <td>People's Choice Awards 2018: The best red carp...</td>\n",
       "      <td>https://www.today.com/style/see-people-s-choic...</td>\n",
       "      <td>www.today.com</td>\n",
       "      <td>0</td>\n",
       "      <td>1</td>\n",
       "    </tr>\n",
       "    <tr>\n",
       "      <th>2</th>\n",
       "      <td>Sophia Bush Sends Sweet Birthday Message to 'O...</td>\n",
       "      <td>https://www.etonline.com/news/220806_sophia_bu...</td>\n",
       "      <td>www.etonline.com</td>\n",
       "      <td>63</td>\n",
       "      <td>1</td>\n",
       "    </tr>\n",
       "    <tr>\n",
       "      <th>3</th>\n",
       "      <td>Colombian singer Maluma sparks rumours of inap...</td>\n",
       "      <td>https://www.dailymail.co.uk/news/article-33655...</td>\n",
       "      <td>www.dailymail.co.uk</td>\n",
       "      <td>20</td>\n",
       "      <td>1</td>\n",
       "    </tr>\n",
       "    <tr>\n",
       "      <th>4</th>\n",
       "      <td>Gossip Girl 10 Years Later: How Upper East Sid...</td>\n",
       "      <td>https://www.zerchoo.com/entertainment/gossip-g...</td>\n",
       "      <td>www.zerchoo.com</td>\n",
       "      <td>38</td>\n",
       "      <td>1</td>\n",
       "    </tr>\n",
       "  </tbody>\n",
       "</table>\n",
       "</div>"
      ],
      "text/plain": [
       "                                               title  \\\n",
       "0  Kandi Burruss Explodes Over Rape Accusation on...   \n",
       "1  People's Choice Awards 2018: The best red carp...   \n",
       "2  Sophia Bush Sends Sweet Birthday Message to 'O...   \n",
       "3  Colombian singer Maluma sparks rumours of inap...   \n",
       "4  Gossip Girl 10 Years Later: How Upper East Sid...   \n",
       "\n",
       "                                            news_url        source_domain  \\\n",
       "0  http://toofab.com/2017/05/08/real-housewives-a...           toofab.com   \n",
       "1  https://www.today.com/style/see-people-s-choic...        www.today.com   \n",
       "2  https://www.etonline.com/news/220806_sophia_bu...     www.etonline.com   \n",
       "3  https://www.dailymail.co.uk/news/article-33655...  www.dailymail.co.uk   \n",
       "4  https://www.zerchoo.com/entertainment/gossip-g...      www.zerchoo.com   \n",
       "\n",
       "   tweet_num  real  \n",
       "0         42     1  \n",
       "1          0     1  \n",
       "2         63     1  \n",
       "3         20     1  \n",
       "4         38     1  "
      ]
     },
     "execution_count": 93,
     "metadata": {},
     "output_type": "execute_result"
    }
   ],
   "source": [
    "df = pd.read_csv('DATA/FakeNews.csv') #https://www.kaggle.com/datasets/algord/fake-news\n",
    "#df = pd.read_csv('DATA/gossipcop_data.csv')\n",
    "#df = pd.read_csv('DATA/politifact_data.csv')\n",
    "print(df.shape)\n",
    "print(df['real'].value_counts())\n",
    "df.head()\n",
    "#1 real\n",
    "#0 fake"
   ]
  },
  {
   "attachments": {},
   "cell_type": "markdown",
   "metadata": {},
   "source": [
    "## PROCESSAMENTO DE LINGUAGEM NATURAL (PLN)"
   ]
  },
  {
   "attachments": {},
   "cell_type": "markdown",
   "metadata": {},
   "source": [
    "Tratamento de dados"
   ]
  },
  {
   "cell_type": "code",
   "execution_count": 94,
   "metadata": {},
   "outputs": [],
   "source": [
    "def process_df(df):\n",
    "    df.dropna(inplace=True) #removendo valores nulos\n",
    "    df.drop_duplicates(subset='title', keep='last', inplace=True) #removendo duplicatas\n",
    "    df.reset_index(drop=True, inplace=True) #resetando index\n",
    "    df['title'] = df['title'].apply(lambda text: re.sub(r\"[^A-Za-z0-9\\s\\.]\", '', text.lower())) #removendo caracteres especiais\n",
    "\n",
    "    return df"
   ]
  },
  {
   "attachments": {},
   "cell_type": "markdown",
   "metadata": {},
   "source": [
    "Tokenização, StopWords, Lematização"
   ]
  },
  {
   "cell_type": "code",
   "execution_count": 95,
   "metadata": {},
   "outputs": [],
   "source": [
    "def process_data(text):\n",
    "    stop_words = set(stopwords.words('english'))\n",
    "    lemmatizer = WordNetLemmatizer()\n",
    "\n",
    "    tokens = word_tokenize(text) #tokenização\n",
    "    tokens = [token for token in tokens if token not in stop_words] #remoção de stopwords\n",
    "    tokens = [lemmatizer.lemmatize(token) for token in tokens] #lematização\n",
    "    preprocessed_text = ' '.join(tokens) #junção de tokens\n",
    "    \n",
    "    return preprocessed_text"
   ]
  },
  {
   "attachments": {},
   "cell_type": "markdown",
   "metadata": {},
   "source": [
    "Balanceamento de Carga"
   ]
  },
  {
   "cell_type": "code",
   "execution_count": 108,
   "metadata": {},
   "outputs": [],
   "source": [
    "def balance_data(df):\n",
    "    df_fake = df[df['real'] == 0]\n",
    "    df_real = df[df['real'] == 1]\n",
    "    df_real_downsampled = resample(df_real, replace=False, n_samples=len(df_fake), random_state=42) #balanceando dados\n",
    "    df_balanced = pd.concat([df_real_downsampled, df_fake])\n",
    "    \n",
    "    return df_balanced, df_balanced['real']\n"
   ]
  },
  {
   "attachments": {},
   "cell_type": "markdown",
   "metadata": {},
   "source": [
    "TF-IDF"
   ]
  },
  {
   "cell_type": "code",
   "execution_count": 97,
   "metadata": {},
   "outputs": [],
   "source": [
    "def calculate_tfidf(train_text, test_text):\n",
    "    vectorizer = TfidfVectorizer()\n",
    "\n",
    "    tfidf_matrix1 = vectorizer.fit_transform(train_text) #calculando TF-IDF\n",
    "    tfidf_matrix2 = vectorizer.transform(test_text) #calculando TF-IDF\n",
    "    return tfidf_matrix1.toarray(), tfidf_matrix2.toarray()"
   ]
  },
  {
   "attachments": {},
   "cell_type": "markdown",
   "metadata": {},
   "source": [
    "GloVe"
   ]
  },
  {
   "cell_type": "code",
   "execution_count": 98,
   "metadata": {},
   "outputs": [
    {
     "name": "stderr",
     "output_type": "stream",
     "text": [
      "C:\\Users\\MGPFILH\\AppData\\Local\\Temp\\ipykernel_15976\\3585477582.py:4: DeprecationWarning: Call to deprecated `glove2word2vec` (KeyedVectors.load_word2vec_format(.., binary=False, no_header=True) loads GLoVE text vectors.).\n",
      "  glove2word2vec(glove_path, word2vec_output_file)\n"
     ]
    }
   ],
   "source": [
    "#Carregando Stanford GloVe mode\n",
    "glove_filename = 'DATA/glove.6b/glove.6B.100d.txt' \n",
    "glove_path = os.path.abspath(glove_filename)\n",
    "word2vec_output_file = glove_filename +'.word2vec'\n",
    "glove2word2vec(glove_path, word2vec_output_file) #convertendo GloVe para word2vec\n",
    "glove_model = KeyedVectors.load_word2vec_format(word2vec_output_file, binary=False) \n",
    "\n",
    "#Calculando GloVe\n",
    "def calculate_glove(train_text, test_text):\n",
    "    vectorizer = Word2VecVectorizer(glove_model)\n",
    "    \n",
    "    X_train_glove = vectorizer.fit_transform(train_text) #calculando GloVe\n",
    "    X_test_glove = vectorizer.transform(test_text) #calculando GloVe\n",
    "    return X_train_glove, X_test_glove\n",
    "\n",
    "#Classe para vetorização de textos\n",
    "class Word2VecVectorizer:\n",
    "    def __init__(self, model):\n",
    "        self.word_vectors = model\n",
    "        self.D = model.vector_size\n",
    "\n",
    "    def fit(self, data):\n",
    "        pass\n",
    "\n",
    "    def transform(self, data):\n",
    "        X = np.zeros((len(data), self.D))\n",
    "        emptycount = 0\n",
    "        for i, sentence in enumerate(data):\n",
    "            tokens = sentence.split()\n",
    "            vecs = []\n",
    "            for word in tokens:\n",
    "                try:\n",
    "                    vec = self.word_vectors[word]\n",
    "                    vecs.append(vec)\n",
    "                except KeyError:\n",
    "                    pass\n",
    "            if len(vecs) > 0:\n",
    "                vecs = np.array(vecs)\n",
    "                X[i] = vecs.mean(axis=0)\n",
    "            else:\n",
    "                emptycount += 1\n",
    "        print(\"Number of samples with no words found: %s / %s\" % (emptycount, len(data)))\n",
    "        return X\n",
    "\n",
    "    def fit_transform(self, data):\n",
    "        self.fit(data)\n",
    "        return self.transform(data)"
   ]
  },
  {
   "attachments": {},
   "cell_type": "markdown",
   "metadata": {},
   "source": [
    "Aplicação do pré processamento"
   ]
  },
  {
   "cell_type": "code",
   "execution_count": 99,
   "metadata": {},
   "outputs": [
    {
     "name": "stdout",
     "output_type": "stream",
     "text": [
      "(21398, 6)\n",
      "Dados de treino: (7940, 6)\n",
      "1    3970\n",
      "0    3970\n",
      "Name: real, dtype: int64\n",
      "\n",
      "Dados de teste: (4280, 6)\n",
      "1    3244\n",
      "0    1036\n",
      "Name: real, dtype: int64\n"
     ]
    }
   ],
   "source": [
    "#tratando dados da base\n",
    "df = process_df(df)\n",
    "#aplicando tokenização, stopWords, lematização\n",
    "df['tokens'] = df['title'].apply(process_data)\n",
    "print(df.shape)\n",
    "\n",
    "#dividindo dados de treino e teste\n",
    "X_train, X_test, y_train, y_test = train_test_split(df, df['real'], test_size=0.2, random_state=42)\n",
    "\n",
    "#balanceando dados de treino\n",
    "X_train, y_train = balance_data(X_train)\n",
    "\n",
    "print(\"Dados de treino:\",X_train.shape)\n",
    "print(y_train.value_counts())\n",
    "print(\"\\nDados de teste:\", X_test.shape)\n",
    "print(y_test.value_counts())"
   ]
  },
  {
   "attachments": {},
   "cell_type": "markdown",
   "metadata": {},
   "source": [
    "Calculo do TF-IDF ou GloVe"
   ]
  },
  {
   "cell_type": "code",
   "execution_count": 100,
   "metadata": {},
   "outputs": [
    {
     "name": "stdout",
     "output_type": "stream",
     "text": [
      "Loading word vectors...\n",
      "Finished loading word vectors\n",
      "Number of samples with no words found: 13 / 7940\n",
      "Number of samples with no words found: 7 / 4280\n"
     ]
    }
   ],
   "source": [
    "#TF-IDF\n",
    "# X_train, X_test = calculate_tfidf(X_train['tokens'], X_test['tokens'])\n",
    "# method = 'TF-IDF'\n",
    "\n",
    "#GloVe\n",
    "X_train, X_test= calculate_glove(X_train['tokens'], X_test['tokens'])\n",
    "method = 'GloVe'"
   ]
  },
  {
   "attachments": {},
   "cell_type": "markdown",
   "metadata": {},
   "source": [
    "## MODELOS ARTIFICIAIS"
   ]
  },
  {
   "attachments": {},
   "cell_type": "markdown",
   "metadata": {},
   "source": [
    "Naive Bayes"
   ]
  },
  {
   "cell_type": "code",
   "execution_count": 101,
   "metadata": {},
   "outputs": [],
   "source": [
    "def naive_bayes_model(X_train, y_train, X_test):\n",
    "    naive_bayes = MultinomialNB()\n",
    "    naive_bayes.fit(X_train, y_train) #treinando modelo\n",
    "    y_pred = naive_bayes.predict(X_test) #testando modelo\n",
    "    return y_pred"
   ]
  },
  {
   "attachments": {},
   "cell_type": "markdown",
   "metadata": {},
   "source": [
    "Floresta Aleatória"
   ]
  },
  {
   "cell_type": "code",
   "execution_count": 102,
   "metadata": {},
   "outputs": [],
   "source": [
    "def random_forest_model(X_train, y_train, X_test):\n",
    "    random_forest = RandomForestClassifier()\n",
    "    random_forest.fit(X_train, y_train) #treinando modelo\n",
    "    y_pred = random_forest.predict(X_test) #testando modelo\n",
    "    return y_pred"
   ]
  },
  {
   "attachments": {},
   "cell_type": "markdown",
   "metadata": {},
   "source": [
    "Support Vector Machine"
   ]
  },
  {
   "cell_type": "code",
   "execution_count": 103,
   "metadata": {},
   "outputs": [],
   "source": [
    "def support_vector_machine_model(X_train, y_train, X_test):\n",
    "    svm = LinearSVC()\n",
    "    svm.fit(X_train, y_train) #treinando modelo\n",
    "    y_pred = svm.predict(X_test) #testando modelo\n",
    "    return y_pred"
   ]
  },
  {
   "attachments": {},
   "cell_type": "markdown",
   "metadata": {},
   "source": [
    "Rede Neural"
   ]
  },
  {
   "cell_type": "code",
   "execution_count": 104,
   "metadata": {},
   "outputs": [],
   "source": [
    "def neural_network_model(X_train, y_train, X_test):\n",
    "    model = tf.keras.models.Sequential([ #definindo modelo\n",
    "        tf.keras.layers.Dense(64, activation='relu', input_shape=(X_train.shape[1],)),\n",
    "        tf.keras.layers.Dense(1, activation='sigmoid')\n",
    "    ])\n",
    "\n",
    "    model.compile(optimizer='adam', loss='binary_crossentropy', metrics=['accuracy']) #compilando modelo\n",
    "    model.fit(X_train, y_train, epochs=10, batch_size=32, verbose=0) #treinando modelo\n",
    "    y_pred = model.predict(X_test) #testando modelo\n",
    "    y_pred = (y_pred > 0.5).astype(int) #convertendo valores para 0 ou 1\n",
    "    \n",
    "    return y_pred"
   ]
  },
  {
   "attachments": {},
   "cell_type": "markdown",
   "metadata": {},
   "source": [
    "Aplicação dos modelos"
   ]
  },
  {
   "cell_type": "code",
   "execution_count": 105,
   "metadata": {},
   "outputs": [
    {
     "name": "stderr",
     "output_type": "stream",
     "text": [
      "c:\\Python\\Python310\\lib\\site-packages\\sklearn\\svm\\_base.py:1244: ConvergenceWarning: Liblinear failed to converge, increase the number of iterations.\n",
      "  warnings.warn(\n"
     ]
    },
    {
     "name": "stdout",
     "output_type": "stream",
     "text": [
      "134/134 [==============================] - 0s 945us/step\n"
     ]
    }
   ],
   "source": [
    "# nb_model = naive_bayes_model(X_train, y_train, X_test)\n",
    "rf_model = random_forest_model(X_train, y_train, X_test)\n",
    "svm_model = support_vector_machine_model(X_train, y_train, X_test)\n",
    "nn_model = neural_network_model(X_train, y_train, X_test)"
   ]
  },
  {
   "attachments": {},
   "cell_type": "markdown",
   "metadata": {},
   "source": [
    "## Métricas de Avaliação"
   ]
  },
  {
   "attachments": {},
   "cell_type": "markdown",
   "metadata": {},
   "source": [
    "Matriz de confusão"
   ]
  },
  {
   "cell_type": "code",
   "execution_count": 106,
   "metadata": {},
   "outputs": [],
   "source": [
    "def plot_confusion_matrix(y_true, y_pred):\n",
    "    cm = confusion_matrix(y_true, y_pred) #calculando matriz de confusão\n",
    "    plt.figure(figsize=(5, 3))\n",
    "    sns.heatmap(cm, annot=True, fmt='d') #plotando matriz \n",
    "    plt.xlabel('Prediction')\n",
    "    plt.ylabel('Real')\n",
    "    plt.show()"
   ]
  },
  {
   "attachments": {},
   "cell_type": "markdown",
   "metadata": {},
   "source": [
    "Acurácia, precisão, recall, f1-score"
   ]
  },
  {
   "cell_type": "code",
   "execution_count": 107,
   "metadata": {},
   "outputs": [
    {
     "name": "stdout",
     "output_type": "stream",
     "text": [
      "Preprocess Method: GloVe\n",
      "\n",
      "#Random Forest:\n",
      "               precision    recall  f1-score   support\n",
      "\n",
      "           0       0.41      0.68      0.51      1036\n",
      "           1       0.87      0.69      0.77      3244\n",
      "\n",
      "    accuracy                           0.69      4280\n",
      "   macro avg       0.64      0.68      0.64      4280\n",
      "weighted avg       0.76      0.69      0.71      4280\n",
      "\n"
     ]
    },
    {
     "data": {
      "image/png": "[encoded data removed]",
      "text/plain": [
       "<Figure size 500x300 with 2 Axes>"
      ]
     },
     "metadata": {},
     "output_type": "display_data"
    },
    {
     "name": "stdout",
     "output_type": "stream",
     "text": [
      "\n",
      "#Support Vector Machine:\n",
      "               precision    recall  f1-score   support\n",
      "\n",
      "           0       0.41      0.69      0.51      1036\n",
      "           1       0.87      0.68      0.76      3244\n",
      "\n",
      "    accuracy                           0.68      4280\n",
      "   macro avg       0.64      0.68      0.64      4280\n",
      "weighted avg       0.76      0.68      0.70      4280\n",
      "\n"
     ]
    },
    {
     "data": {
      "image/png": "[encoded data removed]",
      "text/plain": [
       "<Figure size 500x300 with 2 Axes>"
      ]
     },
     "metadata": {},
     "output_type": "display_data"
    },
    {
     "name": "stdout",
     "output_type": "stream",
     "text": [
      "\n",
      "#Neural Network:\n",
      "               precision    recall  f1-score   support\n",
      "\n",
      "           0       0.48      0.64      0.55      1036\n",
      "           1       0.87      0.78      0.82      3244\n",
      "\n",
      "    accuracy                           0.75      4280\n",
      "   macro avg       0.68      0.71      0.69      4280\n",
      "weighted avg       0.78      0.75      0.76      4280\n",
      "\n"
     ]
    },
    {
     "data": {
      "image/png": "[encoded data removed]",
      "text/plain": [
       "<Figure size 500x300 with 2 Axes>"
      ]
     },
     "metadata": {},
     "output_type": "display_data"
    }
   ],
   "source": [
    "print(\"Preprocess Method:\", method)\n",
    "# print(\"\\n#Naive Bayes:\\n\", classification_report(y_test, nb_model))\n",
    "# plot_confusion_matrix(y_test, nb_model)\n",
    "print(\"\\n#Random Forest:\\n\", classification_report(y_test, rf_model))\n",
    "plot_confusion_matrix(y_test, rf_model)\n",
    "print(\"\\n#Support Vector Machine:\\n\", classification_report(y_test, svm_model))\n",
    "plot_confusion_matrix(y_test, svm_model)\n",
    "print(\"\\n#Neural Network:\\n\", classification_report(y_test, nn_model))\n",
    "plot_confusion_matrix(y_test, nn_model)"
   ]
  }
 ],
 "metadata": {
  "kernelspec": {
   "display_name": "Python 3",
   "language": "python",
   "name": "python3"
  },
  "language_info": {
   "codemirror_mode": {
    "name": "ipython",
    "version": 3
   },
   "file_extension": ".py",
   "mimetype": "text/x-python",
   "name": "python",
   "nbconvert_exporter": "python",
   "pygments_lexer": "ipython3",
   "version": "3.10.7"
  },
  "orig_nbformat": 4
 },
 "nbformat": 4,
 "nbformat_minor": 2
}
