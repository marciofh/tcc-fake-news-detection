{
 "cells": [
  {
   "cell_type": "code",
   "execution_count": 12,
   "metadata": {},
   "outputs": [],
   "source": [
    "import pandas as pd\n",
    "from sklearn.utils import shuffle"
   ]
  },
  {
   "cell_type": "code",
   "execution_count": 13,
   "metadata": {},
   "outputs": [],
   "source": [
    "gossipcop_fake = pd.read_csv('DATA/gossipcop_fake.csv')\n",
    "gossipcop_real = pd.read_csv('DATA/gossipcop_real.csv')\n",
    "politifact_fake = pd.read_csv('DATA/politifact_fake.csv')\n",
    "politifact_real = pd.read_csv('DATA/politifact_real.csv')"
   ]
  },
  {
   "cell_type": "code",
   "execution_count": 14,
   "metadata": {},
   "outputs": [],
   "source": [
    "gossipcop_fake['real'] = 0\n",
    "gossipcop_real['real'] = 1\n",
    "politifact_fake['real'] = 0\n",
    "politifact_real['real'] = 1"
   ]
  },
  {
   "cell_type": "code",
   "execution_count": 15,
   "metadata": {},
   "outputs": [
    {
     "name": "stdout",
     "output_type": "stream",
     "text": [
      "Gossipcop:\n",
      "1    16817\n",
      "0     5323\n",
      "Name: real, dtype: int64\n",
      "\n",
      "Politifact:\n",
      "1    624\n",
      "0    432\n",
      "Name: real, dtype: int64\n"
     ]
    }
   ],
   "source": [
    "data_politifact = pd.concat([politifact_fake, politifact_real], ignore_index=True)\n",
    "data_politifact = shuffle(data_politifact).reset_index(drop=True)\n",
    "data_gossipcop = pd.concat([gossipcop_fake, gossipcop_real], ignore_index=True)\n",
    "data_gossipcop = shuffle(data_gossipcop).reset_index(drop=True)\n",
    "\n",
    "print(\"Gossipcop:\")\n",
    "print(data_gossipcop['real'].value_counts())\n",
    "print(\"\\nPolitifact:\")\n",
    "print(data_politifact['real'].value_counts())"
   ]
  },
  {
   "cell_type": "code",
   "execution_count": 16,
   "metadata": {},
   "outputs": [],
   "source": [
    "data_politifact.to_csv('DATA/politifact_data.csv', index=False)\n",
    "data_gossipcop.to_csv('DATA/gossipcop_data.csv', index=False)"
   ]
  }
 ],
 "metadata": {
  "kernelspec": {
   "display_name": "Python 3",
   "language": "python",
   "name": "python3"
  },
  "language_info": {
   "codemirror_mode": {
    "name": "ipython",
    "version": 3
   },
   "file_extension": ".py",
   "mimetype": "text/x-python",
   "name": "python",
   "nbconvert_exporter": "python",
   "pygments_lexer": "ipython3",
   "version": "3.10.7"
  },
  "orig_nbformat": 4
 },
 "nbformat": 4,
 "nbformat_minor": 2
}
